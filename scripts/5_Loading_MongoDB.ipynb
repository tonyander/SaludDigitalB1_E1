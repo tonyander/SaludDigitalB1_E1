{
 "cells": [
  {
   "cell_type": "markdown",
   "id": "a14a9af5",
   "metadata": {},
   "source": [
    "🧩 Fase 5 – Carga en MongoDB\n",
    "Crear base de datos SaludDigital_2025 y colección pacientes\n",
    "Insertar los registros limpios desde CSV.\n"
   ]
  },
  {
   "cell_type": "code",
   "execution_count": 3,
   "id": "f5847eec",
   "metadata": {},
   "outputs": [
    {
     "name": "stdout",
     "output_type": "stream",
     "text": [
      "🧹 Colección 'pacientes' vaciada antes de insertar nuevos datos.\n",
      "✅ Datos insertados en MongoDB correctamente.\n"
     ]
    }
   ],
   "source": [
    "import pandas as pd\n",
    "from pymongo import MongoClient\n",
    "\n",
    "# ⿡ Conexión a MongoDB local\n",
    "client = MongoClient(\"mongodb://localhost:27017/\")\n",
    "\n",
    "# ⿢ Crear base de datos y colección\n",
    "db = client[\"SaludDigital_2025\"]\n",
    "collection = db[\"pacientes\"]\n",
    "\n",
    "# ⿣ Eliminar registros previos (para evitar duplicados)\n",
    "collection.delete_many({})\n",
    "print(\"🧹 Colección 'pacientes' vaciada antes de insertar nuevos datos.\")\n",
    "\n",
    "# ⿤ Leer datos limpios\n",
    "df = pd.read_csv(\"../database/pacientes_clean.csv\")\n",
    "\n",
    "# ⿥ Insertar datos en MongoDB\n",
    "data = df.to_dict(orient=\"records\")\n",
    "collection.insert_many(data)\n",
    "print(\"✅ Datos insertados en MongoDB correctamente.\")\n"
   ]
  },
  {
   "cell_type": "code",
   "execution_count": 4,
   "id": "5131cf60",
   "metadata": {},
   "outputs": [
    {
     "name": "stdout",
     "output_type": "stream",
     "text": [
      "\n",
      "📋 Primeros registros:\n",
      "{'id_paciente': 'P0001', 'nombre': 'Carlos Ruiz', 'distrito': 'Magdalena', 'servicio': 'Pediatría'}\n",
      "{'id_paciente': 'P0002', 'nombre': 'Andrea Soto', 'distrito': 'Desconocido', 'servicio': 'Ginecología'}\n",
      "{'id_paciente': 'P0003', 'nombre': 'Jorge Díaz', 'distrito': 'Baños del Inca', 'servicio': 'General'}\n",
      "{'id_paciente': 'P0004', 'nombre': 'Lucía Mendoza', 'distrito': 'Baños del Inca', 'servicio': 'Traumatología'}\n",
      "{'id_paciente': 'P0005', 'nombre': 'Pedro León', 'distrito': 'Matara', 'servicio': 'Odontología'}\n"
     ]
    }
   ],
   "source": [
    "# ⿦ Mostrar algunos registros de ejemplo\n",
    "print(\"\\n📋 Primeros registros:\")\n",
    "for doc in collection.find({}, {\"_id\": 0, \"id_paciente\": 1, \"nombre\": 1, \"distrito\": 1, \"servicio\": 1}).limit(5):\n",
    "    print(doc)\n"
   ]
  },
  {
   "cell_type": "code",
   "execution_count": 5,
   "id": "e9fd52d1",
   "metadata": {},
   "outputs": [
    {
     "name": "stdout",
     "output_type": "stream",
     "text": [
      "\n",
      "📊 Total de registros en la colección: 3000\n"
     ]
    }
   ],
   "source": [
    "# ⿧ Contar total de documentos\n",
    "total = collection.count_documents({})\n",
    "print(f\"\\n📊 Total de registros en la colección: {total}\")\n"
   ]
  }
 ],
 "metadata": {
  "kernelspec": {
   "display_name": "myvenv",
   "language": "python",
   "name": "python3"
  },
  "language_info": {
   "codemirror_mode": {
    "name": "ipython",
    "version": 3
   },
   "file_extension": ".py",
   "mimetype": "text/x-python",
   "name": "python",
   "nbconvert_exporter": "python",
   "pygments_lexer": "ipython3",
   "version": "3.13.7"
  }
 },
 "nbformat": 4,
 "nbformat_minor": 5
}
