{
 "cells": [
  {
   "cell_type": "markdown",
   "id": "3910873c",
   "metadata": {},
   "source": [
    "🧩 Fase 3 – Generación de Datos Aleatorios\n",
    "Generar un archivo CSV (pacientes.csv) con 3000 registros simulados, que incluya campos nulos, NA, entre otros\n"
   ]
  },
  {
   "cell_type": "code",
   "execution_count": 1,
   "id": "63ffa438",
   "metadata": {},
   "outputs": [
    {
     "name": "stdout",
     "output_type": "stream",
     "text": [
      "✅ Archivo generado correctamente en: c:\\Users\\ander\\documents\\SaludDigitalB1_E1\\scripts\\..\\data\\pacientes.csv\n",
      "📊 Total de registros: 3000\n"
     ]
    }
   ],
   "source": [
    "from pathlib import Path\n",
    "import csv\n",
    "import random\n",
    "from datetime import datetime, timedelta\n",
    "\n",
    "# 1️⃣ Crear carpeta \"data\" si no existe\n",
    "data_path = Path.cwd() / \"../data\"\n",
    "data_path.mkdir(parents=True, exist_ok=True)\n",
    "\n",
    "# 2️⃣ Definir archivo CSV\n",
    "csv_file = data_path / \"pacientes.csv\"\n",
    "\n",
    "# 3️⃣ Listas base de datos simulados\n",
    "nombres = [\"Ana Torres\", \"Luis Pérez\", \"María García\", \"Jorge Díaz\", \"Carmen Flores\", \n",
    "           \"Diego Ramos\", \"Lucía Mendoza\", \"Carlos Ruiz\", \"Andrea Soto\", \"Pedro León\"]\n",
    "sexos = [\"F\", \"M\", \"NA\"]\n",
    "distritos = [\"Cajamarca\", \"Baños del Inca\", \"Jesús\", \"Los Baños\", \"Encañada\", \"Magdalena\", \"Matara\", \"Chetilla\", \"NA\"]\n",
    "servicios = [\"Odontología\", \"Pediatría\", \"Medicina General\", \"Ginecología\", \"Traumatología\", \"NA\"]\n",
    "\n",
    "# 4️⃣ Función para generar una fecha aleatoria entre 2023 y 2025\n",
    "def generar_fecha():\n",
    "    inicio = datetime(2023, 1, 1)\n",
    "    fin = datetime(2025, 12, 31)\n",
    "    delta = fin - inicio\n",
    "    fecha_random = inicio + timedelta(days=random.randint(0, delta.days))\n",
    "    return fecha_random.strftime(\"%Y-%m-%d\")\n",
    "\n",
    "# 5️⃣ Generar 3000 registros simulados\n",
    "registros = []\n",
    "for i in range(1, 3001):\n",
    "    id_paciente = f\"P{str(i).zfill(4)}\"\n",
    "    nombre = random.choice(nombres)\n",
    "    edad = random.choice([random.randint(1, 90), \"NA\", \"\"])\n",
    "    sexo = random.choice(sexos)\n",
    "    distrito = random.choice(distritos)\n",
    "    servicio = random.choice(servicios)\n",
    "    fecha_atencion = generar_fecha()\n",
    "    monto = random.choice([round(random.uniform(50, 800), 2), \"NA\", \"\"])\n",
    "    registros.append([id_paciente, nombre, edad, sexo, distrito, servicio, fecha_atencion, monto])\n",
    "\n",
    "# 6️⃣ Escribir en el archivo CSV\n",
    "with open(csv_file, mode=\"w\", newline=\"\", encoding=\"utf-8\") as file:\n",
    "    writer = csv.writer(file)\n",
    "    writer.writerow([\"id_paciente\", \"nombre\", \"edad\", \"sexo\", \"distrito\", \"servicio\", \"fecha_atencion\", \"monto\"])\n",
    "    writer.writerows(registros)\n",
    "\n",
    "print(f\"✅ Archivo generado correctamente en: {csv_file}\")\n",
    "print(f\"📊 Total de registros: {len(registros)}\")"
   ]
  }
 ],
 "metadata": {
  "kernelspec": {
   "display_name": "myvenv",
   "language": "python",
   "name": "python3"
  },
  "language_info": {
   "codemirror_mode": {
    "name": "ipython",
    "version": 3
   },
   "file_extension": ".py",
   "mimetype": "text/x-python",
   "name": "python",
   "nbconvert_exporter": "python",
   "pygments_lexer": "ipython3",
   "version": "3.13.7"
  }
 },
 "nbformat": 4,
 "nbformat_minor": 5
}
