{
 "cells": [
  {
   "cell_type": "markdown",
   "id": "cd65a3ef",
   "metadata": {},
   "source": [
    "🧩 Fase 2 – Definición de Esquema\n",
    "Generar un archivo base CSV (base.csv) con la estructura indicada.\n"
   ]
  },
  {
   "cell_type": "code",
   "execution_count": 1,
   "id": "f63b767a",
   "metadata": {},
   "outputs": [
    {
     "name": "stdout",
     "output_type": "stream",
     "text": [
      "Archivo 'pacientes.csv' creado correctamente.\n"
     ]
    }
   ],
   "source": [
    "from pathlib import Path\n",
    "\n",
    "# Crear carpeta data\n",
    "data_path = Path.cwd() / \"../data\"\n",
    "data_path.mkdir(parents=True, exist_ok=True)\n",
    "\n",
    "# Crear archivo CSV pacientes.csv\n",
    "archivo_csv = data_path / \"pacientes.csv\"\n",
    "if not archivo_csv.exists():\n",
    "    with open(archivo_csv, \"w\", encoding=\"utf-8\") as f:\n",
    "        f.write(\"id_paciente,nombre,edad,sexo,distrito,servicio,fecha_atencion,monto\\n\")\n",
    "    print(\"Archivo 'pacientes.csv' creado correctamente.\")\n",
    "else:\n",
    "    print(\"El archivo 'pacientes.csv' ya existe.\")\n",
    "    "
   ]
  }
 ],
 "metadata": {
  "kernelspec": {
   "display_name": "myvenv",
   "language": "python",
   "name": "python3"
  },
  "language_info": {
   "codemirror_mode": {
    "name": "ipython",
    "version": 3
   },
   "file_extension": ".py",
   "mimetype": "text/x-python",
   "name": "python",
   "nbconvert_exporter": "python",
   "pygments_lexer": "ipython3",
   "version": "3.13.7"
  }
 },
 "nbformat": 4,
 "nbformat_minor": 5
}
